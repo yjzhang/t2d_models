{
 "cells": [
  {
   "cell_type": "code",
   "execution_count": 53,
   "id": "9912e459-6cf9-4bc8-a3a8-49da313d6c2d",
   "metadata": {},
   "outputs": [
    {
     "name": "stdout",
     "output_type": "stream",
     "text": [
      "// Created by libAntimony v2.13.2\n",
      "model *Gaetano2008_DiabetesProgressionModel()\n",
      "\n",
      "  // Compartments and Species:\n",
      "  compartment body;\n",
      "  species $B in body, $lamda in body, $I in body, $h in body, $G in body;\n",
      "  species $gamma_ in body;\n",
      "\n",
      "  // Assignment Rules:\n",
      "  lamda := lamdamin + eta*(x^3/(x^3 + 1));\n",
      "  h := (G/Gh)^vh/(1 + (G/Gh)^vh);\n",
      "  ImaxB := TigB/Kxi;\n",
      "  G := gamma_/(rho + I);\n",
      "  gamma_ := Tgl/Kxgi;\n",
      "  rho := Kxg/Kxgi;\n",
      "  x := X0*(G/Glamda);\n",
      "  Tgl := (Kxgi*I0 + Kxg)*G0;\n",
      "  TigB := Kxistart*I0/(B0*h0);\n",
      "  ImaxB0 := 0.0287/0.05;\n",
      "  Kag := Kxa*A0/(G0*((100 - A0)/100));\n",
      "  lamdamax := lamdamin + eta;\n",
      "\n",
      "  // Rate Rules:\n",
      "  B' = lamda*B;\n",
      "  I' = h*ImaxB*B;\n",
      "  eta' = -KetaG*eta*G + Teta;\n",
      "  Kxi' = Kxistart + ((time - t0)/(tmax - t0))*(Kxiend - Kxistart);\n",
      "  A' = -Kxa*A + Kag*G*(100 - A)/100;\n",
      "\n",
      "  // Species initializations:\n",
      "  B = 1000;\n",
      "  I = 50;\n",
      "\n",
      "  // Compartment initializations:\n",
      "  body = 1;\n",
      "\n",
      "  // Variable initializations:\n",
      "  Gh = 9;\n",
      "  vh = 4;\n",
      "  lamdamin = -0.02;\n",
      "  eta = 0.04;\n",
      "  Kxgi = 0.0001;\n",
      "  B0 = 1000;\n",
      "  I0 = 50;\n",
      "  G0 = 5;\n",
      "  Glamda = 5;\n",
      "  Kxg = 0;\n",
      "  Kxistart = 0.05;\n",
      "  h0 = 0.190519737844841;\n",
      "  Kxi = 0.05;\n",
      "  t0 = 0;\n",
      "  tmax = 90;\n",
      "  Kxiend = 0.035;\n",
      "  Kxgi0 = 0.0001;\n",
      "  tI = 1;\n",
      "  vi = 0.25;\n",
      "  eta0 = 0.04;\n",
      "  Teta = 0.0008;\n",
      "  KetaG = 0.02;\n",
      "  A0 = 5;\n",
      "  Kxa = 0.238;\n",
      "  teta10 = 1;\n",
      "  X0 = 1;\n",
      "  A = 5;\n",
      "\n",
      "  // Other declarations:\n",
      "  var ImaxB, rho, eta, x, Tgl, TigB, h0, Kxi, ImaxB0, Kag, lamdamax, A;\n",
      "  const body, Gh, vh, lamdamin, Kxgi, B0, I0, G0, Glamda, Kxg, Kxistart, t0;\n",
      "  const tmax, Kxiend, Kxgi0, tI, vi, eta0, Teta, KetaG, A0, Kxa, teta10, X0;\n",
      "\n",
      "  // Display Names:\n",
      "  B is \"beta cell mass\";\n",
      "  lamda is \"net beta cell growth\";\n",
      "  I is \"fasting serum insulin \";\n",
      "  h is \"glucose effect on pancreas\";\n",
      "  G is \"fasting plasma glucose \";\n",
      "  gamma_ is \"insulin resistance\";\n",
      "  rho is \"Ratio of glucose uptake rate constant\";\n",
      "  lamdamin is \"minimum lamda\";\n",
      "  Tgl is \"liver glucose output\";\n",
      "  Kxgi is \"Insulin sensitivity\";\n",
      "  B0 is \"initial Beta cell mass\";\n",
      "  I0 is \"insuliemia at t0\";\n",
      "  G0 is \"glycemia at t0\";\n",
      "  Glamda is \"maximal glycemia sensitivity\";\n",
      "  Kxg is \"glucose uptake rate\";\n",
      "  TigB is \"maximal insulin secretion\";\n",
      "  Kxistart is \"insulin elimination basline\";\n",
      "  Kxi is \"insulin elimination constant\";\n",
      "  t0 is \"starting age\";\n",
      "  Kxiend is \"insulin elimination end\";\n",
      "  Kxgi0 is \"KxgI (t0)\";\n",
      "  tI is \"midpoint Kxgi\";\n",
      "  vi is \"exponent in Kxgl\";\n",
      "  ImaxB0 is \"ImaxB (t0)\";\n",
      "  eta0 is \"eta(t0)\";\n",
      "  Teta is \"spontaneous recovery rate\";\n",
      "  KetaG is \"glucose toxicity constant\";\n",
      "  Kag is \"production of HbA1c\";\n",
      "  Kxa is \"elimination of HbA1c\";\n",
      "  teta10 is \"half life of pancreatic reserve\";\n",
      "end\n",
      "\n",
      "Gaetano2008_DiabetesProgressionModel is \"Gaetano2008_DiabetesProgressionModel\"\n",
      "\n",
      "Gaetano2008_DiabetesProgressionModel model_entity_is \"http://identifiers.org/biomodels.db/MODEL1112110003\"\n",
      "Gaetano2008_DiabetesProgressionModel description \"http://identifiers.org/pubmed/18780774\"\n",
      "Gaetano2008_DiabetesProgressionModel taxon \"http://identifiers.org/taxonomy/9606\"\n",
      "Gaetano2008_DiabetesProgressionModel hypernym \"http://identifiers.org/efo/0002614\",\n",
      "                                              \"http://identifiers.org/go/GO:0032868\"\n",
      "\n"
     ]
    }
   ],
   "source": [
    "import tellurium as te\n",
    "\n",
    "r = te.loadSBMLModel('MODEL1112110003_modified.xml')\n",
    "print(r.getCurrentAntimony())"
   ]
  },
  {
   "cell_type": "code",
   "execution_count": 54,
   "id": "7fede654-31d0-4ab8-9840-87c167e3fb89",
   "metadata": {},
   "outputs": [],
   "source": [
    "r.setIntegrator('gillespie')\n",
    "r.getAvailableIntegrators()\n",
    "r.setIntegrator('cvode')"
   ]
  },
  {
   "cell_type": "code",
   "execution_count": 55,
   "id": "67456885-4dce-473b-9cde-3f1779c791f0",
   "metadata": {},
   "outputs": [],
   "source": [
    "r.reset()\n",
    "result = r.simulate(0, 80)"
   ]
  },
  {
   "cell_type": "code",
   "execution_count": 56,
   "id": "00dd9b2c-304a-4337-b3e6-f0f0c70b7477",
   "metadata": {},
   "outputs": [
    {
     "data": {
      "image/png": "[encoded data removed]",
      "text/plain": [
       "<Figure size 432x288 with 1 Axes>"
      ]
     },
     "metadata": {},
     "output_type": "display_data"
    }
   ],
   "source": [
    "r.plot(result)"
   ]
  },
  {
   "cell_type": "code",
   "execution_count": 57,
   "id": "3e258f0b-45d7-4309-b06f-42b4300be382",
   "metadata": {},
   "outputs": [
    {
     "data": {
      "text/plain": [
       "    time,       B,       eta,       A,      Kxi,       I\n",
       " [[    0,    1000,      0.04,       5,     0.05,      50],\n",
       "  [  1.6,  991.46, 0.0360791,  4.7645, 0.129787, 63.3189],\n",
       "  [  3.2, 976.734, 0.0331369, 4.46704, 0.209147, 67.2562],\n",
       "  [  4.8, 959.618, 0.0306892, 4.21637,  0.28808,  69.446],\n",
       "  [  6.4, 941.156, 0.0285946, 4.01845, 0.366587, 70.9137],\n",
       "  [    8, 921.865, 0.0267779, 3.86541, 0.444667,  71.994],\n",
       "  [  9.6, 902.063, 0.0251897, 3.74776,  0.52232, 72.8352],\n",
       "  [ 11.2, 881.967,  0.023794, 3.65719, 0.599547, 73.5155],\n",
       "  [ 12.8, 861.733,  0.022563, 3.58704, 0.676347, 74.0806],\n",
       "  [ 14.4, 841.481, 0.0214742, 3.53222,  0.75272, 74.5597],\n",
       "  [   16, 821.303, 0.0205092, 3.48891, 0.828667, 74.9729],\n",
       "  [ 17.6,  801.27, 0.0196526, 3.45424, 0.904187, 75.3334],\n",
       "  [ 19.2, 781.438, 0.0188912, 3.42612,  0.97928, 75.6511],\n",
       "  [ 20.8, 761.854, 0.0182137, 3.40298,  1.05395, 75.9337],\n",
       "  [ 22.4, 742.552, 0.0176103, 3.38368,  1.12819, 76.1868],\n",
       "  [   24,  723.56, 0.0170727, 3.36737,    1.202, 76.4149],\n",
       "  [ 25.6, 704.901, 0.0165933,  3.3534,  1.27539, 76.6217],\n",
       "  [ 27.2,  686.59, 0.0161657, 3.34129,  1.34835, 76.8099],\n",
       "  [ 28.8, 668.642, 0.0157841, 3.33069,  1.42088, 76.9819],\n",
       "  [ 30.4, 651.063, 0.0154435, 3.32132,  1.49299, 77.1398],\n",
       "  [   32, 633.862, 0.0151395, 3.31297,  1.56467, 77.2852],\n",
       "  [ 33.6,  617.04,  0.014868, 3.30547,  1.63592, 77.4195],\n",
       "  [ 35.2, 600.601, 0.0146257, 3.29869,  1.70675, 77.5438],\n",
       "  [ 36.8, 584.544, 0.0144093, 3.29252,  1.77715, 77.6591],\n",
       "  [ 38.4, 568.868, 0.0142161, 3.28689,  1.84712, 77.7665],\n",
       "  [   40,  553.57, 0.0140436, 3.28171,  1.91667, 77.8665],\n",
       "  [ 41.6, 538.646, 0.0138897, 3.27695,  1.98579,   77.96],\n",
       "  [ 43.2, 524.092, 0.0137524, 3.27255,  2.05448, 78.0474],\n",
       "  [ 44.8, 509.904, 0.0136299, 3.26847,  2.12275, 78.1293],\n",
       "  [ 46.4, 496.075, 0.0135206, 3.26468,  2.19059, 78.2061],\n",
       "  [   48,   482.6, 0.0134233, 3.26115,    2.258, 78.2783],\n",
       "  [ 49.6, 469.472, 0.0133366, 3.25785,  2.32499, 78.3463],\n",
       "  [ 51.2, 456.684, 0.0132594, 3.25477,  2.39155, 78.4103],\n",
       "  [ 52.8, 444.231, 0.0131906, 3.25188,  2.45768, 78.4707],\n",
       "  [ 54.4, 432.105, 0.0131295, 3.24917,  2.52339, 78.5277],\n",
       "  [   56, 420.299, 0.0130752, 3.24662,  2.58867, 78.5817],\n",
       "  [ 57.6, 408.806, 0.0130271, 3.24422,  2.65352, 78.6327],\n",
       "  [ 59.2, 397.619, 0.0129843, 3.24196,  2.71795, 78.6809],\n",
       "  [ 60.8,  386.73, 0.0129465, 3.23982,  2.78195, 78.7267],\n",
       "  [ 62.4, 376.133,  0.012913, 3.23781,  2.84552, 78.7701],\n",
       "  [   64,  365.82, 0.0128834,  3.2359,  2.90867, 78.8112],\n",
       "  [ 65.6, 355.786, 0.0128573,  3.2341,  2.97139, 78.8504],\n",
       "  [ 67.2, 346.022, 0.0128343,  3.2324,  3.03368, 78.8876],\n",
       "  [ 68.8, 336.522, 0.0128142, 3.23078,  3.09555, 78.9229],\n",
       "  [ 70.4,  327.28, 0.0127964, 3.22924,  3.15699, 78.9566],\n",
       "  [   72, 318.288,  0.012781, 3.22778,    3.218, 78.9887],\n",
       "  [ 73.6, 309.541, 0.0127675,  3.2264,  3.27859, 79.0192],\n",
       "  [ 75.2, 301.032, 0.0127557, 3.22508,  3.33875, 79.0483],\n",
       "  [ 76.8, 292.754, 0.0127455, 3.22383,  3.39848, 79.0761],\n",
       "  [ 78.4, 284.703, 0.0127368, 3.22264,  3.45779, 79.1026],\n",
       "  [   80, 276.871, 0.0127292,  3.2215,  3.51667, 79.1279]]"
      ]
     },
     "execution_count": 57,
     "metadata": {},
     "output_type": "execute_result"
    }
   ],
   "source": [
    "result"
   ]
  },
  {
   "cell_type": "code",
   "execution_count": null,
   "id": "dbf36b3e-2e6c-4ae8-9047-b0b303c46f8a",
   "metadata": {},
   "outputs": [],
   "source": []
  },
  {
   "cell_type": "code",
   "execution_count": null,
   "id": "ba0584b9-d354-4120-8b5b-a54c2a7e8d62",
   "metadata": {},
   "outputs": [],
   "source": []
  }
 ],
 "metadata": {
  "kernelspec": {
   "display_name": "Python 3",
   "language": "python",
   "name": "python3"
  },
  "language_info": {
   "codemirror_mode": {
    "name": "ipython",
    "version": 3
   },
   "file_extension": ".py",
   "mimetype": "text/x-python",
   "name": "python",
   "nbconvert_exporter": "python",
   "pygments_lexer": "ipython3",
   "version": "3.10.5"
  }
 },
 "nbformat": 4,
 "nbformat_minor": 5
}
