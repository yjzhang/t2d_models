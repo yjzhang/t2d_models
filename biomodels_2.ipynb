{
 "cells": [
  {
   "cell_type": "markdown",
   "id": "f7c18eb5-3e7f-4b46-b003-45a2f64e6920",
   "metadata": {},
   "source": [
    "# Biomodels\n",
    "\n",
    "Some models to look at:\n",
    "BIOMD0000000482\n",
    "BIOMD0000000474\n",
    "BIOMD0000000449\n",
    "BIOMD0000000448\n",
    "BIOMD0000000379\n",
    "BIOMD0000000356\n",
    "BIOMD0000000349"
   ]
  },
  {
   "cell_type": "code",
   "execution_count": 29,
   "id": "1c040a34-9c5f-4606-854c-47854343356b",
   "metadata": {},
   "outputs": [],
   "source": [
    "import tellurium as te\n",
    "import libsbml"
   ]
  },
  {
   "cell_type": "markdown",
   "id": "d01d2e52-3fe4-4212-b754-b38503ed6597",
   "metadata": {},
   "source": [
    "## BIOMD0000000482 - Noguchi2013 - Insulin dependent glucose metabolism\n",
    "\n",
    "https://www.ebi.ac.uk/biomodels/BIOMD0000000482\n",
    "\n",
    "Reference: https://www.ncbi.nlm.nih.gov/pmc/articles/PMC4039368/ - The selective control of glycolysis, gluconeogenesis and glycogenesis by temporal insulin patterns\n",
    "\n",
    "\n",
    "Parameters:\n",
    "\n",
    "Variables:\n",
    "\n",
    "Time scale: "
   ]
  },
  {
   "cell_type": "code",
   "execution_count": 2,
   "id": "c3723a32-dbd9-4c9f-9df4-decc48e41e16",
   "metadata": {},
   "outputs": [],
   "source": [
    "noguchi2013 = te.loadSBMLModel('https://www.ebi.ac.uk/biomodels/model/download/BIOMD0000000482.2?filename=BIOMD0000000482_url.xml')"
   ]
  },
  {
   "cell_type": "code",
   "execution_count": 3,
   "id": "6f956894-7ac1-4a14-844f-6885f68b90c6",
   "metadata": {},
   "outputs": [
    {
     "name": "stdout",
     "output_type": "stream",
     "text": [
      "// Created by libAntimony v2.13.2\n",
      "model *MODEL1301020001()\n",
      "\n",
      "  // Compartments and Species:\n",
      "  compartment default, Vex, Vin;\n",
      "  species GP in default, pGP in default, mRNA in default, PEPCK in default;\n",
      "  species IRS in default, p1IRS in default, p2IRS in default, p1p2IRS in default;\n",
      "  species Akt in default, pAkt in default, mTOR in default, pmTOR in default;\n",
      "  species Foxo in default, pFoxo in default, PYRout in Vex, GLCex in Vex;\n",
      "  species F16P in Vin, PYRin in Vin, LAC in Vin, OAA in Vin, GLY in Vin, G1P in Vin;\n",
      "  species G6P in Vin;\n",
      "\n",
      "  // Reactions:\n",
      "  v1: GLCex -> G6P; (V1*(GLCex/K1) - V1*(G6P/K1))/(1 + GLCex/K1 + G6P/K1);\n",
      "  v2: pAkt + G6P -> pAkt + F16P; ((1 + s1*pAkt)*V2_G6P*G6P/K2_G6P - V2_F16P*F16P/K2_F16P)/(1 + G6P/K2_G6P + F16P/K2_F16P);\n",
      "  v3: F16P => PYRin; V3*F16P/(K3 + F16P);\n",
      "  v4: PYRin -> LAC; (V4_PYR*PYRin/K4_PYR - V4_LAC*LAC/K4_LAC)/(1 + PYRin/K4_PYR + LAC/K4_LAC);\n",
      "  v5: PYRout -> PYRin; (V5*PYRout/K5 - V5*PYRin/K5)/(1 + PYRout/K5 + PYRin/K5);\n",
      "  v6: PYRin => OAA; V6*PYRin/(K6 + PYRin);\n",
      "  v7: PEPCK + OAA => PEPCK + F16P; (1 + s3*PEPCK)*V7*OAA/(K7 + OAA);\n",
      "  v8: pAkt + G6P -> pAkt + G1P; ((1 + s4*pAkt)*V8_G6P*G6P/K8_G6P - V8_G1P*G1P/K8_G1P)/(1 + G6P/K8_G6P + G1P/K8_G1P);\n",
      "  v9: pGP + G1P -> pGP + GLY; (V9_G1P*G1P/K9_G1P - (1 + s2*pGP)*V9_GLY*GLY/K9_GLY)/(1 + G1P/K9_G1P + GLY/K9_GLY);\n",
      "  metabolicENZ: pGP + G6P => GP + G6P; pGP*G6P*k4;\n",
      "  reaction1:  => IRS; (proIRS - IRS)*param1;\n",
      "  reaction2: IRS -> p1IRS; IRS*insulin*param2 - p1IRS*param3;\n",
      "  reaction3: p1IRS => ; p1IRS*param4;\n",
      "  reaction4: p1IRS + pmTOR => p1p2IRS + pmTOR; p1IRS*pmTOR*param5;\n",
      "  reaction5: p1p2IRS => p1IRS; p1p2IRS*param6;\n",
      "  reaction6: IRS + pmTOR => p2IRS + pmTOR; IRS*pmTOR*param7;\n",
      "  reaction7: p2IRS => IRS; p2IRS*param8;\n",
      "  reaction8: p2IRS => ; p2IRS*param9;\n",
      "  reaction9: p2IRS -> p1p2IRS; p2IRS*insulin*param10 - p1p2IRS*param11;\n",
      "  reaction10: p1p2IRS => ; p1p2IRS*param12;\n",
      "  reaction11: Akt + p1IRS => pAkt + p1IRS; p1IRS*Akt*param13;\n",
      "  reaction12: pAkt => Akt; pAkt*param14;\n",
      "  reaction13: mTOR + pAkt => pmTOR + pAkt; mTOR*pAkt*param15;\n",
      "  reaction14: pmTOR => mTOR; pmTOR*param16;\n",
      "  reaction15: Foxo + pAkt => pFoxo + pAkt; pAkt*Foxo*k1_PEPCK;\n",
      "  reactionPEP1: Foxo => mRNA + Foxo; Foxo*k3_PEPCK - mRNA*k4_PEPCK;\n",
      "  reactionPEP2: mRNA => PEPCK + mRNA; k5_PEPCK*mRNA - k6_PEPCK*PEPCK;\n",
      "  mw7c079c91_51e3_4732_8dca_23fb3cd716a7: pFoxo => Foxo; pFoxo*k2_PEPCK;\n",
      "  mwfc720c89_b1b3_416a_8958_e9d0aff9f4a6: GP => pGP; GP*k3;\n",
      "\n",
      "  // Species initializations:\n",
      "  GP = 0.4726/default;\n",
      "  pGP = 0.1723/default;\n",
      "  mRNA = 2.905/default;\n",
      "  PEPCK = 0.7686/default;\n",
      "  IRS = 888.77/default;\n",
      "  p1IRS = 0;\n",
      "  p2IRS = 0;\n",
      "  p1p2IRS = 0;\n",
      "  Akt = 1.1182/default;\n",
      "  pAkt = 0;\n",
      "  mTOR = 880.25/default;\n",
      "  pmTOR = 0;\n",
      "  Foxo = 1.069e-05/default;\n",
      "  pFoxo = 0;\n",
      "  PYRout = 137.5/Vex;\n",
      "  GLCex = 114.9/Vex;\n",
      "  F16P = 9.571/Vin;\n",
      "  PYRin = 0.9872/Vin;\n",
      "  LAC = 1001/Vin;\n",
      "  OAA = 0.0022/Vin;\n",
      "  GLY = 4.8248/Vin;\n",
      "  G1P = 5.303/Vin;\n",
      "  G6P = 0.5188/Vin;\n",
      "\n",
      "  // Compartment initializations:\n",
      "  default = 1;\n",
      "  Vex = 0.004;\n",
      "  Vex has litre;\n",
      "  Vin = 2.64e-05;\n",
      "  Vin has litre;\n",
      "\n",
      "  // Variable initializations:\n",
      "  V1 = 8.97;\n",
      "  K1 = 0.0451;\n",
      "  V2_G6P = 7.71;\n",
      "  K2_G6P = 925;\n",
      "  V2_F16P = 0.0839;\n",
      "  K2_F16P = 0.597;\n",
      "  V3 = 0.00229;\n",
      "  K3 = 2.92;\n",
      "  V6 = 0.00247;\n",
      "  K6 = 0.996;\n",
      "  V7 = 2.84e-05;\n",
      "  K7 = 8.43;\n",
      "  V4_PYR = 23.6;\n",
      "  K4_PYR = 56.4;\n",
      "  V4_LAC = 1.2e-06;\n",
      "  K4_LAC = 0.0154;\n",
      "  V8_G6P = 2.02e-05;\n",
      "  K8_G6P = 0.791;\n",
      "  V8_G1P = 0.04;\n",
      "  K8_G1P = 69.8;\n",
      "  V5 = 0.00112;\n",
      "  K5 = 0.228;\n",
      "  V9_G1P = 0.488;\n",
      "  K9_G1P = 2.69;\n",
      "  V9_GLY = 1.02e-06;\n",
      "  K9_GLY = 0.000623;\n",
      "  k3 = 112.76;\n",
      "  k4 = 1.9448;\n",
      "  s1 = 1.722;\n",
      "  s2 = 214.7;\n",
      "  s3 = 46.54;\n",
      "  s4 = 1.19;\n",
      "  k1_PEPCK = 0.12225;\n",
      "  k2_PEPCK = 0.0045985;\n",
      "  k3_PEPCK = 486.28;\n",
      "  k4_PEPCK = 0.0046101;\n",
      "  k5_PEPCK = 0.00010958;\n",
      "  k6_PEPCK = 0.0018592;\n",
      "  param1 = 5.5702;\n",
      "  param2 = 2.3969;\n",
      "  param3 = 0.020934;\n",
      "  param4 = 1.214e-05;\n",
      "  param5 = 0.2751;\n",
      "  param6 = 0.0072509;\n",
      "  param7 = 758.12;\n",
      "  param8 = 0.91758;\n",
      "  param9 = 0.041292;\n",
      "  param10 = 0.00013032;\n",
      "  param11 = 0.000192;\n",
      "  param12 = 0.029311;\n",
      "  param13 = 4.4307e-05;\n",
      "  param14 = 0.35211;\n",
      "  param15 = 3.1385e-05;\n",
      "  param16 = 0.0095934;\n",
      "  proIRS = 888.77;\n",
      "  insulin = 100;\n",
      "  insulin has MWDERIVEDUNIT_nanomole__litre;\n",
      "\n",
      "  // Other declarations:\n",
      "  const default, Vex, Vin, V1, K1, V2_G6P, K2_G6P, V2_F16P, K2_F16P, V3, K3;\n",
      "  const V6, K6, V7, K7, V4_PYR, K4_PYR, V4_LAC, K4_LAC, V8_G6P, K8_G6P, V8_G1P;\n",
      "  const K8_G1P, V5, K5, V9_G1P, K9_G1P, V9_GLY, K9_GLY, k3, k4, s1, s2, s3;\n",
      "  const s4, k1_PEPCK, k2_PEPCK, k3_PEPCK, k4_PEPCK, k5_PEPCK, k6_PEPCK, param1;\n",
      "  const param2, param3, param4, param5, param6, param7, param8, param9, param10;\n",
      "  const param11, param12, param13, param14, param15, param16, proIRS, insulin;\n",
      "\n",
      "  // Unit definitions:\n",
      "  unit MWDERIVEDUNIT_nanomole__litre = mole * 1e-06 dimensionless / metre^3;\n",
      "\n",
      "  // Display Names:\n",
      "  MWDERIVEDUNIT_nanomole__litre is \"nanomole/litre\";\n",
      "  s2 is \"s4\";\n",
      "  s3 is \"s2\";\n",
      "  s4 is \"s3\";\n",
      "  metabolicENZ is \"metabolicENZ1\";\n",
      "  mw7c079c91_51e3_4732_8dca_23fb3cd716a7 is \"reaction16\";\n",
      "  mwfc720c89_b1b3_416a_8958_e9d0aff9f4a6 is \"metabolicENZ2\";\n",
      "\n",
      "  // CV terms:\n",
      "  default hypernym \"http://identifiers.org/go/GO:0005623\"\n",
      "  Vex hypernym \"http://identifiers.org/go/GO:0005576\"\n",
      "  Vin hypernym \"http://identifiers.org/go/GO:0005622\"\n",
      "  GP hypernym \"http://identifiers.org/uniprot/P09811\"\n",
      "  pGP hypernym \"http://identifiers.org/uniprot/P09811\",\n",
      "               \"http://identifiers.org/kegg.compound/C00562\"\n",
      "  mRNA hypernym \"http://identifiers.org/chebi/CHEBI:33699\"\n",
      "  PEPCK hypernym \"http://identifiers.org/uniprot/P07379\"\n",
      "  IRS hypernym \"http://identifiers.org/uniprot/P35570\"\n",
      "  p1IRS hypernym \"http://identifiers.org/uniprot/P35570\",\n",
      "                 \"http://identifiers.org/kegg.compound/C00562\"\n",
      "  p2IRS hypernym \"http://identifiers.org/uniprot/P35570\",\n",
      "                 \"http://identifiers.org/kegg.compound/C00562\"\n",
      "  p1p2IRS hypernym \"http://identifiers.org/uniprot/P35570\",\n",
      "                   \"http://identifiers.org/kegg.compound/C00562\"\n",
      "  Akt hypernym \"http://identifiers.org/uniprot/P47197\"\n",
      "  pAkt hypernym \"http://identifiers.org/uniprot/P47197\",\n",
      "                \"http://identifiers.org/kegg.compound/C00562\"\n",
      "  mTOR hypernym \"http://identifiers.org/uniprot/P42346\"\n",
      "  pmTOR hypernym \"http://identifiers.org/uniprot/P42346\",\n",
      "                 \"http://identifiers.org/kegg.compound/C00562\"\n",
      "  Foxo hypernym \"http://identifiers.org/uniprot/D3ZV21\"\n",
      "  pFoxo hypernym \"http://identifiers.org/uniprot/D3ZV21\",\n",
      "                 \"http://identifiers.org/kegg.compound/C00562\"\n",
      "  PYRout hypernym \"http://identifiers.org/chebi/CHEBI:15361\"\n",
      "  GLCex hypernym \"http://identifiers.org/chebi/CHEBI:17234\"\n",
      "  F16P hypernym \"http://identifiers.org/chebi/CHEBI:40595\"\n",
      "  PYRin hypernym \"http://identifiers.org/chebi/CHEBI:15361\",\n",
      "                 \"http://identifiers.org/go/GO:0005622\"\n",
      "  LAC hypernym \"http://identifiers.org/chebi/CHEBI:24996\"\n",
      "  OAA hypernym \"http://identifiers.org/chebi/CHEBI:16452\"\n",
      "  GLY hypernym \"http://identifiers.org/chebi/CHEBI:28087\"\n",
      "  G1P hypernym \"http://identifiers.org/chebi/CHEBI:29042\"\n",
      "end\n",
      "\n",
      "MODEL1301020001 is \"Noguchi2013 - Insulin dependent glucose metabolism\"\n",
      "\n",
      "MODEL1301020001 model_entity_is \"http://identifiers.org/biomodels.db/MODEL1301020001\"\n",
      "MODEL1301020001 model_entity_is \"http://identifiers.org/biomodels.db/BIOMD0000000482\"\n",
      "MODEL1301020001 description \"http://identifiers.org/pubmed/23670537\"\n",
      "MODEL1301020001 origin \"http://identifiers.org/biomodels.db/MODEL1204060000\"\n",
      "MODEL1301020001 property \"http://identifiers.org/mamo/MAMO_0000046\"\n",
      "MODEL1301020001 container \"http://identifiers.org/bto/BTO:0000608\"\n",
      "MODEL1301020001 hypernym \"http://identifiers.org/go/GO:0061178\"\n",
      "MODEL1301020001 taxon \"http://identifiers.org/taxonomy/10114\"\n",
      "MODEL1301020001 property \"http://identifiers.org/doid/DOID:9351\"\n",
      "\n"
     ]
    }
   ],
   "source": [
    "noguchi2013.resetToOrigin()\n",
    "print(noguchi2013.getAntimony())"
   ]
  },
  {
   "cell_type": "code",
   "execution_count": 28,
   "id": "1d7e25ef-c5f8-4ee2-92aa-f65da9347355",
   "metadata": {},
   "outputs": [
    {
     "data": {
      "image/png": "[encoded data removed]",
      "text/plain": [
       "<Figure size 432x288 with 1 Axes>"
      ]
     },
     "metadata": {},
     "output_type": "display_data"
    }
   ],
   "source": [
    "results = noguchi2013.simulate(0, 100, 1000)\n",
    "noguchi2013.plot(results)"
   ]
  },
  {
   "cell_type": "code",
   "execution_count": 4,
   "id": "26956f3b-ca48-4ac5-9fe5-e817d0f96d38",
   "metadata": {},
   "outputs": [
    {
     "data": {
      "text/plain": [
       "['GP',\n",
       " 'pGP',\n",
       " 'mRNA',\n",
       " 'PEPCK',\n",
       " 'IRS',\n",
       " 'p1IRS',\n",
       " 'p2IRS',\n",
       " 'p1p2IRS',\n",
       " 'Akt',\n",
       " 'pAkt',\n",
       " 'mTOR',\n",
       " 'pmTOR',\n",
       " 'Foxo',\n",
       " 'pFoxo',\n",
       " 'PYRout',\n",
       " 'GLCex',\n",
       " 'F16P',\n",
       " 'PYRin',\n",
       " 'LAC',\n",
       " 'OAA',\n",
       " 'GLY',\n",
       " 'G1P',\n",
       " 'G6P']"
      ]
     },
     "execution_count": 4,
     "metadata": {},
     "output_type": "execute_result"
    }
   ],
   "source": [
    "noguchi2013.getFloatingSpeciesIds()"
   ]
  },
  {
   "cell_type": "code",
   "execution_count": 6,
   "id": "f0059697-608e-4ba6-838d-4cea3cd89886",
   "metadata": {},
   "outputs": [
    {
     "data": {
      "text/plain": [
       "0.1723"
      ]
     },
     "execution_count": 6,
     "metadata": {},
     "output_type": "execute_result"
    }
   ],
   "source": [
    "noguchi2013.pGP"
   ]
  },
  {
   "cell_type": "code",
   "execution_count": 19,
   "id": "88b64611-2160-430f-aa4c-5b95762dcb56",
   "metadata": {},
   "outputs": [],
   "source": [
    "import libsbml"
   ]
  },
  {
   "cell_type": "code",
   "execution_count": 33,
   "id": "b4721dac-0d99-4f91-9b3e-50f614a64f75",
   "metadata": {},
   "outputs": [],
   "source": [
    "noguchi2013_sbml = libsbml.readSBMLFromString(noguchi2013.getSBML())\n",
    "model = noguchi2013_sbml.getModel()"
   ]
  },
  {
   "cell_type": "code",
   "execution_count": 34,
   "id": "3d9120b7-27e6-4d16-9a15-481985df6399",
   "metadata": {},
   "outputs": [
    {
     "data": {
      "text/plain": [
       "23"
      ]
     },
     "execution_count": 34,
     "metadata": {},
     "output_type": "execute_result"
    }
   ],
   "source": [
    "model.getNumSpecies()"
   ]
  },
  {
   "cell_type": "code",
   "execution_count": 36,
   "id": "eaa90c66-023f-418d-a45a-09bfbf56caab",
   "metadata": {},
   "outputs": [
    {
     "data": {
      "text/plain": [
       "9"
      ]
     },
     "execution_count": 36,
     "metadata": {},
     "output_type": "execute_result"
    }
   ],
   "source": [
    "model.getNumCVTerms()"
   ]
  },
  {
   "cell_type": "code",
   "execution_count": 37,
   "id": "8738f964-a1de-47c6-8d12-daafc36cb055",
   "metadata": {},
   "outputs": [
    {
     "data": {
      "text/plain": [
       "<libcombine.SBaseList; proxy of <Swig Object of type 'ListWrapper< SBase > *' at 0x7fae4687b570> >"
      ]
     },
     "execution_count": 37,
     "metadata": {},
     "output_type": "execute_result"
    }
   ],
   "source": [
    "model."
   ]
  },
  {
   "cell_type": "code",
   "execution_count": null,
   "id": "2effad23-03df-4efc-bfe5-632c29b6b0a1",
   "metadata": {},
   "outputs": [],
   "source": []
  }
 ],
 "metadata": {
  "kernelspec": {
   "display_name": "Python 3",
   "language": "python",
   "name": "python3"
  },
  "language_info": {
   "codemirror_mode": {
    "name": "ipython",
    "version": 3
   },
   "file_extension": ".py",
   "mimetype": "text/x-python",
   "name": "python",
   "nbconvert_exporter": "python",
   "pygments_lexer": "ipython3",
   "version": "3.10.5"
  }
 },
 "nbformat": 4,
 "nbformat_minor": 5
}
