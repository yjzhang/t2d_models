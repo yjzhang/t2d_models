{
 "cells": [
  {
   "cell_type": "markdown",
   "id": "9a775772-83d8-4231-a481-a9ca8abf49e6",
   "metadata": {},
   "source": [
    "Guyton 1972 kidney model:\n",
    "https://models.physiomeproject.org/exposure/b897ad1b96031d40293b2e2e10684ffe\n",
    "\n"
   ]
  },
  {
   "cell_type": "code",
   "execution_count": 1,
   "id": "27b90300-6c9c-4cf7-8522-1ade9ba1e140",
   "metadata": {},
   "outputs": [],
   "source": [
    "import tellurium as te"
   ]
  },
  {
   "cell_type": "code",
   "execution_count": 2,
   "id": "648d77a7-411e-4412-afe9-b9226215b631",
   "metadata": {},
   "outputs": [
    {
     "ename": "NotImplementedError",
     "evalue": "CellML support was not compiled into Antimony, so conversion is not available.",
     "output_type": "error",
     "traceback": [
      "\u001b[0;31m---------------------------------------------------------------------------\u001b[0m",
      "\u001b[0;31mNotImplementedError\u001b[0m                       Traceback (most recent call last)",
      "Input \u001b[0;32mIn [2]\u001b[0m, in \u001b[0;36m<cell line: 1>\u001b[0;34m()\u001b[0m\n\u001b[0;32m----> 1\u001b[0m \u001b[43mte\u001b[49m\u001b[38;5;241;43m.\u001b[39;49m\u001b[43mloadCellMLModel\u001b[49m\u001b[43m(\u001b[49m\u001b[38;5;124;43m'\u001b[39;49m\u001b[38;5;124;43mguyton_kidney_2008-c88a251a599d/kidney.cellml\u001b[39;49m\u001b[38;5;124;43m'\u001b[39;49m\u001b[43m)\u001b[49m\n",
      "File \u001b[0;32m~/.pyenv/versions/3.10.5/lib/python3.10/site-packages/tellurium/tellurium.py:571\u001b[0m, in \u001b[0;36mloadCellMLModel\u001b[0;34m(cellml)\u001b[0m\n\u001b[1;32m    563\u001b[0m \u001b[38;5;28;01mdef\u001b[39;00m \u001b[38;5;21mloadCellMLModel\u001b[39m(cellml):\n\u001b[1;32m    564\u001b[0m     \u001b[38;5;124;03m\"\"\" Load CellML model with tellurium.\u001b[39;00m\n\u001b[1;32m    565\u001b[0m \n\u001b[1;32m    566\u001b[0m \u001b[38;5;124;03m    :param cellml: CellML model\u001b[39;00m\n\u001b[0;32m   (...)\u001b[0m\n\u001b[1;32m    569\u001b[0m \u001b[38;5;124;03m    :rtype: roadrunner.ExtendedRoadRunner\u001b[39;00m\n\u001b[1;32m    570\u001b[0m \u001b[38;5;124;03m    \"\"\"\u001b[39;00m\n\u001b[0;32m--> 571\u001b[0m     sbml \u001b[38;5;241m=\u001b[39m \u001b[43mcellmlToSBML\u001b[49m\u001b[43m(\u001b[49m\u001b[43mcellml\u001b[49m\u001b[43m)\u001b[49m\n\u001b[1;32m    572\u001b[0m     \u001b[38;5;28;01mreturn\u001b[39;00m roadrunner\u001b[38;5;241m.\u001b[39mRoadRunner(sbml)\n",
      "File \u001b[0;32m~/.pyenv/versions/3.10.5/lib/python3.10/site-packages/tellurium/tellurium.py:698\u001b[0m, in \u001b[0;36mcellmlToSBML\u001b[0;34m(cellml)\u001b[0m\n\u001b[1;32m    690\u001b[0m \u001b[38;5;124;03m\"\"\" Convert CellML to SBML string.\u001b[39;00m\n\u001b[1;32m    691\u001b[0m \n\u001b[1;32m    692\u001b[0m \u001b[38;5;124;03m:param cellml: CellML string or file\u001b[39;00m\n\u001b[0;32m   (...)\u001b[0m\n\u001b[1;32m    695\u001b[0m \u001b[38;5;124;03m:rtype: str\u001b[39;00m\n\u001b[1;32m    696\u001b[0m \u001b[38;5;124;03m\"\"\"\u001b[39;00m\n\u001b[1;32m    697\u001b[0m \u001b[38;5;28;01mif\u001b[39;00m \u001b[38;5;129;01mnot\u001b[39;00m \u001b[38;5;28mhasattr\u001b[39m(antimony, \u001b[38;5;124m\"\u001b[39m\u001b[38;5;124mloadCellMLString\u001b[39m\u001b[38;5;124m\"\u001b[39m):\n\u001b[0;32m--> 698\u001b[0m     \u001b[38;5;28;01mraise\u001b[39;00m \u001b[38;5;167;01mNotImplementedError\u001b[39;00m(\u001b[38;5;124m\"\u001b[39m\u001b[38;5;124mCellML support was not compiled into Antimony, so conversion is not available.\u001b[39m\u001b[38;5;124m\"\u001b[39m)\n\u001b[1;32m    699\u001b[0m antimony\u001b[38;5;241m.\u001b[39mclearPreviousLoads()\n\u001b[1;32m    700\u001b[0m antimony\u001b[38;5;241m.\u001b[39mfreeAll()\n",
      "\u001b[0;31mNotImplementedError\u001b[0m: CellML support was not compiled into Antimony, so conversion is not available."
     ]
    }
   ],
   "source": [
    "r = te.loadCellMLModel('guyton_kidney_2008-c88a251a599d/kidney.cellml')"
   ]
  },
  {
   "cell_type": "code",
   "execution_count": null,
   "id": "49ee35da-7b3f-43aa-a37d-9b7d84d030d5",
   "metadata": {},
   "outputs": [],
   "source": []
  }
 ],
 "metadata": {
  "kernelspec": {
   "display_name": "Python 3",
   "language": "python",
   "name": "python3"
  },
  "language_info": {
   "codemirror_mode": {
    "name": "ipython",
    "version": 3
   },
   "file_extension": ".py",
   "mimetype": "text/x-python",
   "name": "python",
   "nbconvert_exporter": "python",
   "pygments_lexer": "ipython3",
   "version": "3.10.5"
  }
 },
 "nbformat": 4,
 "nbformat_minor": 5
}
