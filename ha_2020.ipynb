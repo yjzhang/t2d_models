{
 "cells": [
  {
   "cell_type": "markdown",
   "id": "ff151c12-9d11-46ca-b9e9-25e286fbcbf1",
   "metadata": {},
   "source": [
    "# Ha 2020 Model: Type 2 diabetes: one disease, many pathways\n",
    "\n",
    "Ref: https://journals.physiology.org/doi/full/10.1152/ajpendo.00512.2019\n",
    "\n",
    "Supplement: https://figshare.com/articles/journal_contribution/Mathematical_Model_of_Diabetes_Pathways/10792412\n",
    "\n",
    "Source code: https://github.com/artielbm/artielbm.github.io/tree/master/Models/Pathways"
   ]
  },
  {
   "cell_type": "code",
   "execution_count": 1,
   "id": "a0d0c4ff-cb82-42e6-bd94-6318fd4c0b57",
   "metadata": {},
   "outputs": [],
   "source": [
    "import tellurium as te\n",
    "import matplotlib.pyplot as plt"
   ]
  },
  {
   "cell_type": "code",
   "execution_count": 2,
   "id": "6c3af94a-c0c0-4d0f-ba57-06ffbab7b6f5",
   "metadata": {},
   "outputs": [],
   "source": [
    "\n",
    "# based on https://github.com/artielbm/artielbm.github.io/blob/master/Models/Pathways/pathway_matlab/pathway.m\n",
    "r = te.loada(\"\"\"\n",
    "species $G; species $I; species $beta; species $sigma; species $M; species $ISR;\n",
    "# y(1) = G, y(2) = I, y(3) = beta, y(4) = gam, y(5) = sigma, y(6) = si, y(7) = hepasi, y(8) = N5, y(9) = N6\n",
    "\n",
    "# System parameters\n",
    "Eg0=0.0118;  BV=7200; unit_con=0.0006944; k=0.4861;\n",
    "\n",
    "# turning on or off the subsystems - meal, OGTT, IVGTT\n",
    "meal=1; OGTT=0; IVGTT=0;\n",
    "averG = 0; GT=1440;\n",
    "\n",
    "# Define metabolic rate M and Insulin secretion rate ISR\n",
    "Mmax=1; alpha_M=150; kM=2;\n",
    "M := Mmax*G^kM/(alpha_M^kM + G^kM);\n",
    "\n",
    "alpha_ISR=1.2; \n",
    "kISR=2;\n",
    "\n",
    "ts=60; t_min=0.00069444;\n",
    "\n",
    "# Define exocytosis\n",
    "# Glucose Amplifying factor\n",
    "\n",
    "GF_bar=4.4567; kGF=16; alpha_GF=260; shGF=-89; GF_b=1.7826;\n",
    "GF := (0.1*IVGTT*GF_bar + (1-IVGTT)*GF_bar)*(G-shGF)^kGF/(alpha_GF^kGF + (G-shGF)^kGF) + GF_b;\n",
    "\n",
    "ca_bar=2; kca=4; alpha_ca=0.62; ca_b=0.07; \n",
    "ci := ca_bar*(M + gam)^kca/(alpha_ca^kca + (M + gam)^kca) + ca_b;\n",
    "\n",
    "k1=20; km1=100; r1=0.6; rm1=1; rm2=0.001;\n",
    "r20=0.006; \n",
    "\n",
    "\n",
    "r30=1.205; rm3=0.0001; u1=2000; u2=3; u3=0.02; Kp2=2.3;\n",
    "\n",
    "r2 := (0.1*IVGTT*r20 + (1-IVGTT)*r20)*ci/(ci + Kp2);\n",
    "\n",
    "\n",
    "# Define Microdoman Ca2+\n",
    "cmd_factor=150; cmd_b=0.0635; cik=4; cialpha=1;\n",
    "cmd := cmd_factor*ci^cik/(cialpha^cik + ci^cik) + cmd_b;\n",
    "\n",
    "r3 := sigma*GF*r30*ci/(ci + Kp2);\n",
    "\n",
    "######\n",
    "N1_C := km1/(3*k1*cmd + rm1);\n",
    "N1_D := r1/(3*k1*cmd + rm1);\n",
    "\n",
    "N2_E := 3*k1*cmd/(2*k1*cmd + km1);\n",
    "N2_F := 2*km1/(2*k1*cmd + km1);\n",
    "\n",
    "N3_L := 2*k1*cmd/(2*km1+k1*cmd);\n",
    "N3_N := 3*km1/(2*km1+k1*cmd);\n",
    "\n",
    "###### fast-slow analysis by considering N6 and N5 slow and all other fast.\n",
    "CN4 := (k1*cmd/(3*km1 +u1));\n",
    "CN3 := N3_L/(1-N3_N*CN4);\n",
    "CN2 := N2_E/(1-N2_F*CN3);\n",
    "CN1 := N1_D/(1-N1_C*CN2);\n",
    "\n",
    "\n",
    "N1 := CN1*N5;\n",
    "N2 := CN2*N1;\n",
    "N3 := CN3*N2;\n",
    "N4 := CN4*N3;\n",
    "NF := u1*N4/u2;\n",
    "NR := (u2/u3)*NF;\n",
    "\n",
    "###### Build b dynamics and Define Proliferation rate P(ISR) and Apoptosis A(M)\n",
    "         \n",
    "ISR := ts*9*(u3*NR);\n",
    "Pmax=4.55; kP=4; alpha_P=41.77;\n",
    "P := Pmax*ISR^kP/(alpha_P^kP + ISR^kP);\n",
    "\n",
    "Amax=3.11; alpha_A=0.44; kA=6; A_b=0.8;\n",
    "A := Amax*M^kA/(alpha_A^kA + M^kA) + A_b;\n",
    "tau_b = 10080000;\n",
    "\n",
    "###### Build gam dynamics\n",
    "\n",
    "Gs = 100;\n",
    "G_bar=0.4; Gn=5; Gshft=0.2;\n",
    "G_inf := G_bar/(1 + exp(-(G - Gs)/Gn)) - Gshft;\n",
    "gam_inf := G_inf;\n",
    "tau_g = 3081.6;\n",
    "\n",
    "###### Build sigma dynamics\n",
    "sigma_Gsh=35;\n",
    "M_Gsh := Mmax*(G-sigma_Gsh)^kM/(alpha_M^kM + (G-sigma_Gsh)^kM);\n",
    "\n",
    "ISRI_bar = 1.4; \n",
    "ISRI_s=0.1; ISRI_n=0.1; ISRI_k=1; sigma_b=0.01752;\n",
    "\n",
    "sigma_ISRI := ISRI_bar/(1 + ISRI_k*exp(-(ISR - ISRI_s)/ISRI_n));\n",
    "\n",
    "MI_bar=1; MI_k=0.2; MI_s=0.2; MI_n=0.02;\n",
    "\n",
    "sigma_MI :=  1 - MI_bar/(1 + MI_k*exp(-(M_Gsh - MI_s)/MI_n));\n",
    "sigma_inf := sigma_MI*sigma_ISRI + sigma_b; \n",
    "\n",
    "tau_sigma = 359856;\n",
    "\n",
    "tau_si = 360000;\n",
    "tar_si = 0.8\n",
    "####################################\n",
    "\n",
    "# meal Flux\n",
    "period=360;\n",
    "nspike=3;\n",
    "rest=360;\n",
    "\n",
    "active := nspike*period;\n",
    "bperiod := active + rest; \n",
    "\n",
    "# mealbar is the average glucose intake in a meal\n",
    "mealbar=11.055; mhill_k=4; mh_alpha=40; ita=0.3; mu=-0.015;\n",
    "      \n",
    "burstenv := ( piecewise(1, time % bperiod > 0, 0) -piecewise(1, time % bperiod > active, 0) );\n",
    "mhill_fcn := (time % period)^mhill_k/(mh_alpha^mhill_k +(time % period)^mhill_k);\n",
    "meal_rate :=  meal*(mealbar*(mhill_fcn)^ita*exp(mu*((time % period)))*burstenv);\n",
    "\n",
    "####\n",
    "\n",
    "\n",
    "######\n",
    "# OGTT Flux ## unit [BW]=kg, [V_bar]=dl\n",
    "BW = 75;\n",
    "V_bar=1.569; OGTTbar=1; t1=15; \n",
    "t2=120; t3=240;\n",
    "a1=588.5; a2=353.1; a3=0; \n",
    "t_g_0 := piecewise(1, time>0, 0);\n",
    "t_g_t1 := piecewise(1, time>t1, 0);\n",
    "t_g_t2 := piecewise(1, time>t2, 0);\n",
    "t_g_t3 := piecewise(1, time>t3, 0);\n",
    "OGTT_flux0 := (t_g_0 - t_g_t1)*time*a1/t1 + (t_g_t1-t_g_t2)*((time-t2)*(a2-a1)/(t2-t1)+a2) + (t_g_t2-t_g_t3)*(time-t3)*(a3-a2)/(t3-t2);\n",
    "OGTT_rate := OGTT*OGTTbar*OGTT_flux0/(BW*V_bar);\n",
    "        \n",
    "# IVGTT Flux      \n",
    "\n",
    "IVGTTbar=1471250; IVGTT_sh=0;\n",
    "IVGTT_a=1; IVGTT_b=-10; \n",
    "IVGTT_sp=0;\n",
    "\n",
    "IVGTT_rate :=  IVGTT*IVGTTbar*(time-IVGTT_sh)^IVGTT_a*exp(IVGTT_b*(time-IVGTT_sp))/(BW*V_bar);\n",
    "\n",
    "# HGP model\n",
    "HGP_no_si = 0;\n",
    "hepa_bar=15.443; hepa_k=0.27; hepa_b=-3.54277; con_si=0.8;\n",
    "hepa_max := hepa_bar/(hepa_k + si*(1-HGP_no_si) + con_si*HGP_no_si) + hepa_b;\n",
    "      \n",
    "alpha_max=6; alpha_k=0.4; alpha_b=-0.5;\n",
    "alpha_HGP := alpha_max/(alpha_k + si*(1-HGP_no_si) + con_si*HGP_no_si) + alpha_b;\n",
    "\n",
    "HGP_b=0.104166;  \n",
    "HGP  := hepa_max/(alpha_HGP + I*hepasi) + HGP_b;\n",
    "\n",
    "tar_hepasi = 1; tau_hepasi = 360000;\n",
    "\n",
    "# ode system       \n",
    "\n",
    "Gmean' = averG*G/GT;\n",
    "G' = HGP + meal_rate + OGTT_rate + IVGTT_rate - (Eg0 + unit_con*si*I)*G;\n",
    "I' = beta*ISR/BV  - k*I;  \n",
    "beta' = (P - A)*beta/tau_b;\n",
    "gam' = (gam_inf - gam)/tau_g;\n",
    "sigma' = (sigma_inf - sigma)/tau_sigma;\n",
    "si' = (-si + tar_si)/tau_si;\n",
    "\n",
    "hepasi' =(-hepasi+ tar_hepasi)/tau_hepasi;\n",
    "\n",
    "N5' = ts*(rm1*CN1*N5 - (r1 + rm2)*N5 + r2*N6);\n",
    "N6' = ts*(r3 + rm2*N5 - (rm3 + r2)*N6);\n",
    "\n",
    "# initial values\n",
    "Gmean = 0\n",
    "G = 78.59159991393697  \n",
    "I = 5.637556083340107  \n",
    "beta = 1533.917937647322 \n",
    "gam = -0.07663502752199285  \n",
    "sigma = 1\n",
    "si = 0.8 \n",
    "hepasi = 1 \n",
    "N5 = 60.24283727598375 \n",
    "N6 = 443.394497666619 \n",
    "\"\"\")"
   ]
  },
  {
   "cell_type": "code",
   "execution_count": 3,
   "id": "7e4caf44-dd6e-40c6-885b-3a42b18372d6",
   "metadata": {},
   "outputs": [],
   "source": [
    "r.resetToOrigin()\n",
    "result = r.simulate(0, 1000, 1000)"
   ]
  },
  {
   "cell_type": "code",
   "execution_count": 4,
   "id": "2a397c57-5ca6-4e88-b2b8-ddc5a6f97c40",
   "metadata": {},
   "outputs": [
    {
     "data": {
      "image/png": "[encoded data removed]",
      "text/plain": [
       "<Figure size 432x288 with 1 Axes>"
      ]
     },
     "metadata": {},
     "output_type": "display_data"
    }
   ],
   "source": [
    "r.plot(result)"
   ]
  },
  {
   "cell_type": "code",
   "execution_count": null,
   "id": "9587dc30-82b3-4aec-86fc-32480f533ec7",
   "metadata": {},
   "outputs": [],
   "source": []
  },
  {
   "cell_type": "markdown",
   "id": "0b60a0ea-2a89-49ef-9265-2428d7a5e3c0",
   "metadata": {},
   "source": [
    "## Figure 1\n",
    "\n",
    "longitudinal, time over several years\n",
    "\n",
    "Plots: SI, hepasi, Glucose, Insulin, sigma, beta"
   ]
  },
  {
   "cell_type": "code",
   "execution_count": 5,
   "id": "d0a6223f-3cf4-4f4e-98b0-fc207ad3fd12",
   "metadata": {},
   "outputs": [],
   "source": [
    "r.resetToOrigin()\n",
    "r.setValue('BW', 75)\n",
    "r.setValue('mealbar', 11.055)\n",
    "r.setValue('k', 0.4861);\n",
    "\n",
    "r.setValue('meal', 1)\n",
    "r.setValue('OGTT', 0)\n",
    "r.setValue('IVGTT', 0)\n",
    "r.setValue('r20', 0.006)\n",
    "\n",
    "r.setValue('tar_si', 0.1)\n",
    "r.setValue('tau_si', 360000) \n",
    "r.setValue('tar_hepasi', 0.85)\n",
    "r.setValue('tau_hepasi', 360000)\n",
    "r.setValue('Gs', 100)\n",
    "r.setValue('ISRI_bar', 0.5259) # beta-cell function defect - default is 1.4.\n",
    "\n",
    "# y(1) = G, y(2) = I, y(3) = beta, y(4) = gam, y(5) = sigma, y(6) = si, y(7) = hepasi, y(8) = N5, y(9) = N6\n",
    "init=[78.59, 5.63, 1533.91, -0.07663, 1, 0.8, 1, 60.24, 443.39]\n",
    "r.setValue('G', 78.59)\n",
    "r.setValue('I', 5.63)\n",
    "r.setValue('beta', 1533.91)\n",
    "r.setValue('gam', -0.07663)\n",
    "r.setValue('sigma', 1)\n",
    "r.setValue('si', 0.8)\n",
    "r.setValue('hepasi', 1)\n",
    "r.setValue('N5', 60.24)\n",
    "r.setValue('N6', 443.39)"
   ]
  },
  {
   "cell_type": "code",
   "execution_count": 6,
   "id": "8b592913-96bb-4d1c-bb71-18245da54b04",
   "metadata": {},
   "outputs": [],
   "source": [
    "total_t = 2628000\n",
    "OGTT_period = 7200\n",
    "nPeriods = int(total_t/OGTT_period)\n",
    "dt = 10\n",
    "tspan = list(range(0, OGTT_period, dt))\n",
    "tspanOGTT = range(120)"
   ]
  },
  {
   "cell_type": "code",
   "execution_count": 7,
   "id": "3491efd4-4988-4feb-b9f0-8c68b09107db",
   "metadata": {},
   "outputs": [],
   "source": [
    "t0 = 0\n",
    "T = []\n",
    "Y = []\n",
    "OGTT_results = []"
   ]
  },
  {
   "cell_type": "code",
   "execution_count": 8,
   "id": "32e4fb7b-6ac9-4bb5-a5f7-9777b87d3f6e",
   "metadata": {},
   "outputs": [],
   "source": [
    "r.setValue('meal', 0)\n",
    "r.setValue('OGTT', 1)\n",
    "results = r.simulate(0, 120, 120)"
   ]
  },
  {
   "cell_type": "code",
   "execution_count": 9,
   "id": "3aa9c057-820e-4ce4-94aa-e80d2771c2d5",
   "metadata": {},
   "outputs": [],
   "source": [
    "OGTT_results.append(results)"
   ]
  },
  {
   "cell_type": "code",
   "execution_count": 10,
   "id": "b3e73618-e88c-41e3-9d91-04884eee1da2",
   "metadata": {},
   "outputs": [],
   "source": [
    "current_time = 0\n",
    "for i in range(nPeriods):\n",
    "    r.setValue('meal', 1)\n",
    "    r.setValue('OGTT', 0)\n",
    "    results = r.simulate(0, OGTT_period, int(OGTT_period/dt))\n",
    "    Y.append(results)\n",
    "    current_time += results['time'][-1]\n",
    "    T.append(current_time)\n",
    "    # print(results['si'][-1])\n",
    "    # do an OGTT simulation\n",
    "    r.setValue('meal', 0)\n",
    "    r.setValue('OGTT', 1)\n",
    "    results = r.simulate(0, 120, int(120/dt))\n",
    "    OGTT_results.append(results)"
   ]
  },
  {
   "cell_type": "code",
   "execution_count": 11,
   "id": "74059631-8916-4f43-8903-fdb294968798",
   "metadata": {},
   "outputs": [
    {
     "data": {
      "image/png": "[encoded data removed]",
      "text/plain": [
       "<Figure size 432x288 with 1 Axes>"
      ]
     },
     "metadata": {},
     "output_type": "display_data"
    }
   ],
   "source": [
    "r.plot(results)"
   ]
  },
  {
   "cell_type": "code",
   "execution_count": 12,
   "id": "21d2e4f4-0df8-4b6c-8d48-bc5d23b167d2",
   "metadata": {},
   "outputs": [],
   "source": [
    "# collate all results\n",
    "end_times = [x['time'][-1] for x in Y]\n",
    "si_vals = [x['si'][-1] for x in Y]\n",
    "hepasi_vals = [x['hepasi'][-1] for x in Y]\n",
    "G_vals = [x['G'][-1] for x in Y]\n",
    "I_vals = [x['I'][-1] for x in Y]\n",
    "sigma_vals = [x['sigma'][-1] for x in Y]\n",
    "beta_vals = [x['beta'][-1] for x in Y]"
   ]
  },
  {
   "cell_type": "code",
   "execution_count": 13,
   "id": "948046a9-f018-49b2-9516-82a3ec201ac9",
   "metadata": {},
   "outputs": [
    {
     "name": "stderr",
     "output_type": "stream",
     "text": [
      "/tmp/ipykernel_1376/1782373324.py:17: UserWarning:\n",
      "\n",
      "Matplotlib is currently using module://matplotlib_inline.backend_inline, which is a non-GUI backend, so cannot show the figure.\n",
      "\n"
     ]
    },
    {
     "data": {
      "image/png": "[encoded data removed]",
      "text/plain": [
       "<Figure size 432x576 with 6 Axes>"
      ]
     },
     "metadata": {
      "needs_background": "light"
     },
     "output_type": "display_data"
    }
   ],
   "source": [
    "# data required for plotting: si, hepasi, G, I, sigma, beta\n",
    "fig, axes = plt.subplots(3, 2, figsize=(6, 8))\n",
    "fig.suptitle('Figure 6 - HF mice - Sigma is variable')\n",
    "axes[0, 0].plot(T, si_vals, label='SI')\n",
    "axes[0, 0].legend()\n",
    "axes[0, 1].plot(T, hepasi_vals, label='hepasi')\n",
    "axes[0, 1].legend()\n",
    "axes[1, 0].plot(T, G_vals, label='G')\n",
    "axes[1, 0].legend()\n",
    "axes[1, 1].plot(T, I_vals, label='I')\n",
    "axes[1, 1].legend()\n",
    "axes[2, 0].plot(T, sigma_vals, label='sigma')\n",
    "axes[2, 0].legend()\n",
    "axes[2, 1].plot(T, beta_vals, label='beta')\n",
    "axes[2, 1].legend()\n",
    "fig.tight_layout()\n",
    "fig.show()"
   ]
  },
  {
   "cell_type": "code",
   "execution_count": null,
   "id": "4fd23dd4-e88d-43b0-9779-324fbd7e704c",
   "metadata": {},
   "outputs": [],
   "source": []
  },
  {
   "cell_type": "code",
   "execution_count": null,
   "id": "db0d53ae-de7a-48ba-8a49-2e43109a1e3c",
   "metadata": {},
   "outputs": [],
   "source": []
  }
 ],
 "metadata": {
  "kernelspec": {
   "display_name": "Python 3",
   "language": "python",
   "name": "python3"
  },
  "language_info": {
   "codemirror_mode": {
    "name": "ipython",
    "version": 3
   },
   "file_extension": ".py",
   "mimetype": "text/x-python",
   "name": "python",
   "nbconvert_exporter": "python",
   "pygments_lexer": "ipython3",
   "version": "3.10.5"
  }
 },
 "nbformat": 4,
 "nbformat_minor": 5
}
