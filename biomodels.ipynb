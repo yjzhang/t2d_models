{
 "cells": [
  {
   "cell_type": "code",
   "execution_count": 1,
   "id": "9f5a5527-afe9-4e59-b7a0-79b58171e40a",
   "metadata": {},
   "outputs": [],
   "source": [
    "import tellurium as te"
   ]
  },
  {
   "cell_type": "markdown",
   "id": "a30b3a15-7054-49f1-b7ee-2e85f31bb184",
   "metadata": {},
   "source": [
    "# Loading all T2D models in BioModels"
   ]
  },
  {
   "cell_type": "code",
   "execution_count": null,
   "id": "a8eb2ea7-d955-464b-b6b5-b3b606292107",
   "metadata": {},
   "outputs": [],
   "source": [
    "# 1. koenig2012\n",
    "# https://www.ebi.ac.uk/biomodels/MODEL1209260000"
   ]
  }
 ],
 "metadata": {
  "kernelspec": {
   "display_name": "Python 3 (ipykernel)",
   "language": "python",
   "name": "python3"
  },
  "language_info": {
   "codemirror_mode": {
    "name": "ipython",
    "version": 3
   },
   "file_extension": ".py",
   "mimetype": "text/x-python",
   "name": "python",
   "nbconvert_exporter": "python",
   "pygments_lexer": "ipython3",
   "version": "3.10.4"
  }
 },
 "nbformat": 4,
 "nbformat_minor": 5
}
